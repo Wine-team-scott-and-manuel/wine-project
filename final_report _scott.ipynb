{
 "cells": [
  {
   "cell_type": "markdown",
   "id": "7c9298ea-d17c-4b5a-8bc6-6cf1727ade7d",
   "metadata": {},
   "source": [
    "\n",
    "# Final Report\n",
    "## Wine Clustering Project\n"
   ]
  },
  {
   "cell_type": "markdown",
   "id": "3bc23e11-8e2e-4a48-a6bb-78996e908d56",
   "metadata": {},
   "source": [
    "## Goals\n",
    "* Construct an ML model that predicts wine quality \n",
    "* Find the key drivers of wine quality \n",
    "* Deliver a report to the data science team \n",
    "* Deliver a presentation of findings to the Data Science team"
   ]
  },
  {
   "cell_type": "markdown",
   "id": "771ff34b-4b39-46ec-9e72-893a4ed8b369",
   "metadata": {
    "tags": []
   },
   "source": [
    "## Imports"
   ]
  },
  {
   "cell_type": "code",
   "execution_count": 12,
   "id": "938f8785-6d6f-4df7-b121-6578d6cd045e",
   "metadata": {},
   "outputs": [
    {
     "ename": "ModuleNotFoundError",
     "evalue": "No module named 'env'",
     "output_type": "error",
     "traceback": [
      "\u001b[0;31m---------------------------------------------------------------------------\u001b[0m",
      "\u001b[0;31mModuleNotFoundError\u001b[0m                       Traceback (most recent call last)",
      "Input \u001b[0;32mIn [12]\u001b[0m, in \u001b[0;36m<cell line: 11>\u001b[0;34m()\u001b[0m\n\u001b[1;32m      9\u001b[0m \u001b[38;5;28;01mimport\u001b[39;00m \u001b[38;5;21;01mscipy\u001b[39;00m\u001b[38;5;21;01m.\u001b[39;00m\u001b[38;5;21;01mstats\u001b[39;00m \u001b[38;5;28;01mas\u001b[39;00m \u001b[38;5;21;01mstats\u001b[39;00m\n\u001b[1;32m     10\u001b[0m \u001b[38;5;28;01mimport\u001b[39;00m \u001b[38;5;21;01mseaborn\u001b[39;00m \u001b[38;5;28;01mas\u001b[39;00m \u001b[38;5;21;01msns\u001b[39;00m\n\u001b[0;32m---> 11\u001b[0m \u001b[38;5;28;01mimport\u001b[39;00m \u001b[38;5;21;01menv\u001b[39;00m\n\u001b[1;32m     12\u001b[0m \u001b[38;5;28;01mimport\u001b[39;00m \u001b[38;5;21;01mos\u001b[39;00m\n\u001b[1;32m     14\u001b[0m \u001b[38;5;28;01mimport\u001b[39;00m \u001b[38;5;21;01msklearn\u001b[39;00m\n",
      "\u001b[0;31mModuleNotFoundError\u001b[0m: No module named 'env'"
     ]
    }
   ],
   "source": [
    "import warnings\n",
    "warnings.filterwarnings(\"ignore\")\n",
    "import pandas as pd\n",
    "import numpy as np\n",
    "import math\n",
    "import matplotlib.pyplot as plt\n",
    "import seaborn as sns\n",
    "from pydataset import data\n",
    "import scipy.stats as stats\n",
    "import seaborn as sns\n",
    "import env\n",
    "import os\n",
    "\n",
    "import sklearn\n",
    "from sklearn.metrics import accuracy_score\n",
    "from sklearn.metrics import recall_score\n",
    "from sklearn.metrics import mutual_info_score\n",
    "from sklearn.model_selection import train_test_split\n",
    "\n",
    "from sklearn.metrics import classification_report, confusion_matrix, plot_confusion_matrix\n",
    "import acquire\n",
    "import prepare\n",
    "import explore"
   ]
  },
  {
   "cell_type": "markdown",
   "id": "d2a7890d-065c-48df-9653-7e35f206e9a3",
   "metadata": {},
   "source": [
    "## Acquire\n",
    "\n",
    "* Data acquired from https://data.world/food/wine-quality\n",
    "    * Seperate red and white wine .csv files were imported\n",
    "    * Files were concated with a column added to distinguish red from white wines \n",
    "* It contained 6498 rows and 13 columns\n",
    "* The data was aquired on 23 MAY 2023\n",
    "* Each row represents a unique wine\n",
    "* Each column represents a feature of the wine\n"
   ]
  },
  {
   "cell_type": "markdown",
   "id": "c910c06f-78c6-43eb-8448-086c4d8e05da",
   "metadata": {
    "tags": []
   },
   "source": [
    "## Prepare\n",
    "\n",
    "* Initial preperation\n",
    "    * edited column names for readability\n",
    "    * converted columns in mg/L to g/L for uniformity\n",
    "    \n"
   ]
  },
  {
   "cell_type": "markdown",
   "id": "f0e59c79-77be-4df4-8068-f920443a89f1",
   "metadata": {},
   "source": [
    "### Data Dictionary"
   ]
  },
  {
   "cell_type": "markdown",
   "id": "32facd0e-082e-4cff-a186-c2534977de78",
   "metadata": {},
   "source": [
    "| Feature | Definition (measurement)|\n",
    "|:--------|:-----------|\n",
    "|Fixed Acidity| The fixed amount of tartaric acid. (g/L)|\n",
    "|Volatile Acidity| A wine's acetic acid; (High Volatility = High Vinegar-like smell). (g/L)|\n",
    "|Citric Acid| The amount of citric acid; (Raises acidity, Lowers shelf-life). (g/L)|\n",
    "|Residual Sugar| Leftover sugars after fermentation. (g/L)|\n",
    "|Chlorides| Increases sodium levels; (Affects color, clarity, flavor, aroma). (g/L)|\n",
    "|Free Sulfur Dioxide| Related to pH. Determines how much SO2 is available. (Increases shelf-life, decreases palatability). (mg/L)|\n",
    "|Total Sulfur Dioxide| Summation of free and bound SO2. (Limited to 350ppm: 0-150, low-processed, 150+ highly processed). (mg/L)|\n",
    "|Density| Between 1.08 and 1.09. (Insight into fermentation process of yeast growth). (g/L)|\n",
    "|pH| 2.5: more acidic - 4.5: less acidic (range)|\n",
    "|Sulphates| Added to stop fermentation (Preservative) (g/L)|\n",
    "|Alcohol| Related to Residual Sugars. By-product of fermentation process (vol%)|\n",
    "|Quality| Score assigned between 0 and 10; 0=low, 10=best|\n",
    "|Wine type| Classifies color of wine ; Red or White|"
   ]
  },
  {
   "cell_type": "markdown",
   "id": "7b4d21e0-248c-459f-848c-ba82b6dc612b",
   "metadata": {},
   "source": [
    "### Bring in Data for Exploration"
   ]
  },
  {
   "cell_type": "code",
   "execution_count": null,
   "id": "82b55ba1-fa0b-4898-8161-35c3b922e48e",
   "metadata": {},
   "outputs": [],
   "source": []
  },
  {
   "cell_type": "markdown",
   "id": "d20ea549-d03b-4671-aaf0-2fac30ea4d0e",
   "metadata": {},
   "source": [
    "### Sneak Peak at the Data\n"
   ]
  },
  {
   "cell_type": "code",
   "execution_count": null,
   "id": "e52be9b6-cd07-43ed-a13b-48c4f8b9a659",
   "metadata": {},
   "outputs": [],
   "source": [
    "train.head(3)"
   ]
  },
  {
   "cell_type": "markdown",
   "id": "fc2c096e-d449-4973-82a6-b9631eaff7a4",
   "metadata": {},
   "source": [
    "### Summary of Data"
   ]
  },
  {
   "cell_type": "code",
   "execution_count": null,
   "id": "753af9a8-b82b-47e2-9076-326184f44731",
   "metadata": {},
   "outputs": [],
   "source": [
    "train.describe()"
   ]
  },
  {
   "cell_type": "markdown",
   "id": "8d2f6eeb-6226-4091-a869-56950471443d",
   "metadata": {},
   "source": [
    "## Exploration"
   ]
  },
  {
   "cell_type": "markdown",
   "id": "ff2352d5-1b7d-403a-9fef-a4b7981220f7",
   "metadata": {},
   "source": [
    "* All features independently evaluated against wine quality\n",
    "* alpha =.05 for all statistics ran\n",
    "* For catagorical features T-tests were used\n",
    "* For numerical features pearsonsr was used"
   ]
  },
  {
   "cell_type": "markdown",
   "id": "f4410da8-55bc-4b3f-bad7-04b1188e60e3",
   "metadata": {},
   "source": [
    "### 1. question?"
   ]
  },
  {
   "cell_type": "code",
   "execution_count": 1,
   "id": "d96f2084-f1df-49cd-940e-b39912484a55",
   "metadata": {},
   "outputs": [],
   "source": [
    "# Get visualizaions\n"
   ]
  },
  {
   "cell_type": "markdown",
   "id": "adf54ddb-4e56-4261-ae34-edf219e68783",
   "metadata": {
    "tags": []
   },
   "source": [
    "#### Charting Observations: feature\n",
    "* The county the property does have a linear relationship with tax value"
   ]
  },
  {
   "cell_type": "markdown",
   "id": "0895d051-3818-49a2-b7ee-07a5034004da",
   "metadata": {},
   "source": [
    "####  Statistics: feature\n"
   ]
  },
  {
   "cell_type": "markdown",
   "id": "beb16610-d2de-4c59-9abb-73b6a1deae37",
   "metadata": {},
   "source": [
    "##### Hypothisis: County\n",
    "$H_0$ : tax value is independent of property county<br>\n",
    "$H_a$ : tax value is not independent of property county"
   ]
  },
  {
   "cell_type": "code",
   "execution_count": 14,
   "id": "dd905e8c-e66d-4c3f-b6e0-54369635cc04",
   "metadata": {},
   "outputs": [],
   "source": [
    "# Running stat test\n"
   ]
  },
  {
   "cell_type": "markdown",
   "id": "25d1185c-cb5b-474a-ace3-7379043a1a6e",
   "metadata": {},
   "source": [
    "##### Hypothisis: area\n",
    "$H_0$ : area and taxvalue are not linearly dependent<br>\n",
    "$H_a$ : area and taxvalue are linearly dependent"
   ]
  },
  {
   "cell_type": "code",
   "execution_count": 15,
   "id": "58f98058-e4d1-415f-b9f2-e1d622ca706d",
   "metadata": {},
   "outputs": [],
   "source": [
    "# running stats\n"
   ]
  },
  {
   "cell_type": "markdown",
   "id": "af9f6edf-f09c-4a95-8199-5d0649f54a35",
   "metadata": {},
   "source": [
    "#### Result\n",
    "* notes"
   ]
  },
  {
   "cell_type": "markdown",
   "id": "32f2fd68-bee8-443b-bd6a-3e086245332f",
   "metadata": {},
   "source": [
    "### 2. question?"
   ]
  },
  {
   "cell_type": "code",
   "execution_count": 2,
   "id": "4499b706-c3fb-42bd-81a0-2574b1c0ffc6",
   "metadata": {},
   "outputs": [],
   "source": [
    "# Get visualizaions\n"
   ]
  },
  {
   "cell_type": "markdown",
   "id": "e34ea7b4-665e-4122-a668-291e48a928ca",
   "metadata": {
    "tags": []
   },
   "source": [
    "#### Charting Observations: \n",
    "* The number \n",
    "* there is a"
   ]
  },
  {
   "cell_type": "markdown",
   "id": "2c231a0e-b6e7-474f-8b3f-9eb4502681c6",
   "metadata": {},
   "source": [
    "####  Statistics: feature\n"
   ]
  },
  {
   "cell_type": "markdown",
   "id": "3902ecca-dff5-4196-b651-e4d206387d1a",
   "metadata": {},
   "source": [
    "##### Hypothisis: feature\n",
    "$H_0$ : tax value is independent of number of bedrooms<br>\n",
    "$H_a$ : tax value is not independent of number of bedrooms"
   ]
  },
  {
   "cell_type": "code",
   "execution_count": 3,
   "id": "62da59c0-c9a3-47a9-9dae-ef8535079c14",
   "metadata": {},
   "outputs": [],
   "source": [
    "# Run stats\n"
   ]
  },
  {
   "cell_type": "markdown",
   "id": "a8addbd1-4bd7-4e8d-a31f-ef85d85ff665",
   "metadata": {},
   "source": [
    "#### Result\n",
    "explain"
   ]
  },
  {
   "cell_type": "markdown",
   "id": "64726d7d-8fff-4083-8411-b0f6f7f5ce43",
   "metadata": {},
   "source": [
    "### 3. question?"
   ]
  },
  {
   "cell_type": "code",
   "execution_count": 4,
   "id": "b3834665-74fb-41fc-aa4e-b02921d651d6",
   "metadata": {},
   "outputs": [],
   "source": [
    "# Get visualizaions\n"
   ]
  },
  {
   "cell_type": "markdown",
   "id": "ea54d254-8b85-41b4-9335-fcdc076cb996",
   "metadata": {
    "tags": []
   },
   "source": [
    "#### Charting Observations: feature\n",
    "* The number \n",
    "* there is a"
   ]
  },
  {
   "cell_type": "markdown",
   "id": "2264bc69-1972-47e4-a79c-b94c23e2989c",
   "metadata": {},
   "source": [
    "####  Statistics: feature\n"
   ]
  },
  {
   "cell_type": "markdown",
   "id": "7c443df3-48d6-4f25-89ca-0e5fc0ab7c84",
   "metadata": {},
   "source": [
    "##### Hypothisis: feature\n",
    "$H_0$ : tax value is independent of number of bathrooms<br>\n",
    "$H_a$ : tax value is not independent of number of bathrooms"
   ]
  },
  {
   "cell_type": "code",
   "execution_count": 5,
   "id": "ba2853e5-cf95-4fe8-ba20-a7f4a5e689d6",
   "metadata": {},
   "outputs": [],
   "source": [
    "# Running t-stat test\n"
   ]
  },
  {
   "cell_type": "markdown",
   "id": "9390f3f9-df5e-4f7c-a040-5ba798c69f74",
   "metadata": {},
   "source": [
    "#### Result\n",
    "explain"
   ]
  },
  {
   "cell_type": "markdown",
   "id": "cfa04963-0b3f-4ba3-8e3f-84c0fc4717f9",
   "metadata": {
    "tags": []
   },
   "source": [
    "### 4. Question? "
   ]
  },
  {
   "cell_type": "code",
   "execution_count": 6,
   "id": "7e76c1fa-4395-469e-a6fe-f538f1902fad",
   "metadata": {},
   "outputs": [],
   "source": [
    "# Get visualizaions\n"
   ]
  },
  {
   "cell_type": "markdown",
   "id": "38644e18-2e7d-4daf-941a-0d3e74185812",
   "metadata": {},
   "source": [
    "#### Chart Observations: feature\n",
    "* lot does appear \n"
   ]
  },
  {
   "cell_type": "markdown",
   "id": "4889745d-2bf8-41c7-94f7-978a4ef92e57",
   "metadata": {},
   "source": [
    "####  Statistics: feature\n"
   ]
  },
  {
   "cell_type": "markdown",
   "id": "f71a5a50-8a23-477d-a6f8-0d89d8dae8d1",
   "metadata": {},
   "source": [
    "##### Hypothisis: feature\n",
    "$H_0$ : lot and taxvalue are not linearly dependent<br>\n",
    "$H_a$ : lot and taxvalue are linearly dependent"
   ]
  },
  {
   "cell_type": "code",
   "execution_count": 7,
   "id": "03d8345d-41d7-4659-b7ce-d0de16c57126",
   "metadata": {},
   "outputs": [],
   "source": [
    "# Running stat test\n"
   ]
  },
  {
   "cell_type": "markdown",
   "id": "b57943d2-3edd-46de-8a43-b85c9ffb0c0d",
   "metadata": {},
   "source": [
    "#### Result\n",
    "* explian"
   ]
  },
  {
   "cell_type": "markdown",
   "id": "593736ce-4878-4340-b518-c74002fff7df",
   "metadata": {},
   "source": [
    "## Exploration Summary\n",
    "* All summary \n",
    "* A combination of these features should create a predictive model wine quality"
   ]
  },
  {
   "cell_type": "markdown",
   "id": "5400eb4b-252e-42b1-b6a6-13ae4cdd699c",
   "metadata": {},
   "source": [
    "### Features we are moving to modeling with\n",
    "* list features"
   ]
  },
  {
   "cell_type": "markdown",
   "id": "b758e296-9a83-4fbb-bb25-a94e54ce332c",
   "metadata": {},
   "source": [
    "### Features not moving to modeling \n",
    "* any"
   ]
  },
  {
   "cell_type": "markdown",
   "id": "1dd3b326-7610-43c9-9807-bb4ef42a36a5",
   "metadata": {},
   "source": [
    "## Modeling"
   ]
  },
  {
   "cell_type": "markdown",
   "id": "2db4285f-451a-4b5c-9482-e97f60e3c303",
   "metadata": {},
   "source": [
    "### Introduction\n",
    "* Before modeling we will be scaling 'any' and 'features'\n",
    "*  primary evaluation metric \n"
   ]
  },
  {
   "cell_type": "code",
   "execution_count": 14,
   "id": "b1423eda-3190-4de5-b3e9-f33875f3aee4",
   "metadata": {},
   "outputs": [],
   "source": [
    "# Scaling area and lot\n"
   ]
  },
  {
   "cell_type": "markdown",
   "id": "28c6e133-7253-48d5-98fd-1fb2a530ae70",
   "metadata": {},
   "source": [
    "#### Baseline "
   ]
  },
  {
   "cell_type": "code",
   "execution_count": 8,
   "id": "3d2fd75b-5d4c-4b17-be31-60471ffd1f01",
   "metadata": {},
   "outputs": [],
   "source": [
    "# get baseline \n"
   ]
  },
  {
   "cell_type": "code",
   "execution_count": 9,
   "id": "a214b0b1-aa98-4447-b24f-1c9ab98919c8",
   "metadata": {},
   "outputs": [],
   "source": [
    "# getting chart to provide the context of the target variable showing distribution of the values and baseline\n"
   ]
  },
  {
   "cell_type": "markdown",
   "id": "afd37995-21a0-4ff7-9f26-7e71ebb116d2",
   "metadata": {},
   "source": [
    "###  Models"
   ]
  },
  {
   "cell_type": "code",
   "execution_count": 10,
   "id": "f65123f7-fc59-4b3c-8fa7-ff67fabc8e38",
   "metadata": {},
   "outputs": [],
   "source": [
    "# running 4 models with preped data for modeling, retuning accuracy and recall \n"
   ]
  },
  {
   "cell_type": "markdown",
   "id": "b61a3bef-668e-4f41-a397-2ce21a8f353a",
   "metadata": {},
   "source": [
    "### Model Selection\n",
    "*** observations\n",
    "* All Models gave gave very similar results\n",
    "    * All out performed the baseline R2\n",
    "    * Polynomial Regression gave the best results on the train and validate sets\n",
    "* I will use the Polynomial Regression model for the unseen Test data"
   ]
  },
  {
   "cell_type": "markdown",
   "id": "75dfba30-68c8-4f7f-a8ce-2c2cda2d4841",
   "metadata": {},
   "source": [
    "### Test Model: best model\n"
   ]
  },
  {
   "cell_type": "code",
   "execution_count": 11,
   "id": "ac217979-b3c3-4de4-a8e3-60623ed47401",
   "metadata": {},
   "outputs": [],
   "source": [
    "# running on test set\n"
   ]
  },
  {
   "cell_type": "markdown",
   "id": "a8278fe0-2e9a-4dc3-96a8-5d012f8649d6",
   "metadata": {},
   "source": [
    "### Modeling Wrap \n",
    "* On the test set the model returned a \n",
    "    * beating the baseline \n",
    "    \n",
    "* This model ##could## be used in production"
   ]
  },
  {
   "cell_type": "markdown",
   "id": "2e9ef6dd-7a7e-40e8-90e3-52fbb6246213",
   "metadata": {},
   "source": [
    "## Conclusion\n",
    "\n",
    "### Summary\n",
    "* notes\n",
    "* notes\n",
    "* notes\n",
    "* notes\n",
    "### Recommendations\n",
    "* notes\n",
    "* notes\n",
    "\n",
    "### Next Steps\n",
    "* If provided more time to work on the project we would want to explore ###notes"
   ]
  },
  {
   "cell_type": "code",
   "execution_count": null,
   "id": "411ae7a4-00b8-4623-a1e1-ddc644197a30",
   "metadata": {},
   "outputs": [],
   "source": []
  }
 ],
 "metadata": {
  "kernelspec": {
   "display_name": "Python 3 (ipykernel)",
   "language": "python",
   "name": "python3"
  },
  "language_info": {
   "codemirror_mode": {
    "name": "ipython",
    "version": 3
   },
   "file_extension": ".py",
   "mimetype": "text/x-python",
   "name": "python",
   "nbconvert_exporter": "python",
   "pygments_lexer": "ipython3",
   "version": "3.9.13"
  },
  "toc-autonumbering": false
 },
 "nbformat": 4,
 "nbformat_minor": 5
}
