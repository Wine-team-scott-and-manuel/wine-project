{
 "cells": [
  {
   "cell_type": "markdown",
   "id": "7c9298ea-d17c-4b5a-8bc6-6cf1727ade7d",
   "metadata": {},
   "source": [
    "\n",
    "# Final Report\n",
    "* Manuel Salazar\n",
    "* Scott Barnett\n",
    "\n",
    "## Wine Clustering Project\n"
   ]
  },
  {
   "cell_type": "markdown",
   "id": "3bc23e11-8e2e-4a48-a6bb-78996e908d56",
   "metadata": {},
   "source": [
    "## Goals\n",
    "* Construct an ML model that predicts wine quality \n",
    "* Find the key drivers of wine quality \n",
    "* Deliver a report to the data science team \n",
    "* Deliver a presentation of findings to the Data Science team"
   ]
  },
  {
   "cell_type": "markdown",
   "id": "771ff34b-4b39-46ec-9e72-893a4ed8b369",
   "metadata": {
    "tags": []
   },
   "source": [
    "## Imports"
   ]
  },
  {
   "cell_type": "code",
   "execution_count": 1,
   "id": "938f8785-6d6f-4df7-b121-6578d6cd045e",
   "metadata": {},
   "outputs": [],
   "source": [
    "import warnings\n",
    "warnings.filterwarnings(\"ignore\")\n",
    "import pandas as pd\n",
    "import numpy as np\n",
    "import math\n",
    "import matplotlib.pyplot as plt\n",
    "import seaborn as sns\n",
    "from pydataset import data\n",
    "import scipy.stats as stats\n",
    "import seaborn as sns\n",
    "import sklearn\n",
    "from sklearn.metrics import accuracy_score\n",
    "from sklearn.metrics import recall_score\n",
    "from sklearn.metrics import mutual_info_score\n",
    "from sklearn.model_selection import train_test_split\n",
    "from sklearn.metrics import classification_report, confusion_matrix, plot_confusion_matrix\n",
    "import wrangle\n",
    "import functions\n"
   ]
  },
  {
   "cell_type": "markdown",
   "id": "d2a7890d-065c-48df-9653-7e35f206e9a3",
   "metadata": {},
   "source": [
    "## Acquire\n",
    "\n",
    "* Data acquired from https://data.world/food/wine-quality\n",
    "    * Seperate red and white wine .csv files were imported\n",
    "    * Files were concated with a column added to distinguish red from white wines \n",
    "* It contained 6498 rows and 13 columns\n",
    "* The data was aquired on 23 MAY 2023\n",
    "* Each row represents a unique wine\n",
    "* Each column represents a feature of the wine\n"
   ]
  },
  {
   "cell_type": "markdown",
   "id": "c910c06f-78c6-43eb-8448-086c4d8e05da",
   "metadata": {
    "tags": []
   },
   "source": [
    "## Prepare\n",
    "\n",
    "* Prepared data\n",
    "    * Change column names to remove spaces\n",
    "    * Converted total and free sulfur dioxide from mg/L to g/L to match the rest of the data measurements\n",
    "    * Created dummy column for wine type\n",
    "* Created univariate histogram for visual first glance at data\n",
    "* Outliers were not addressed in this itteration\n",
    "* Split data into **train**, **validate**, **test**\n",
    "    \n"
   ]
  },
  {
   "cell_type": "markdown",
   "id": "f0e59c79-77be-4df4-8068-f920443a89f1",
   "metadata": {},
   "source": [
    "### Data Dictionary"
   ]
  },
  {
   "cell_type": "markdown",
   "id": "32facd0e-082e-4cff-a186-c2534977de78",
   "metadata": {},
   "source": [
    "| Feature | Definition (measurement)|\n",
    "|:--------|:-----------|\n",
    "|Fixed Acidity| The fixed amount of tartaric acid. (g/L)|\n",
    "|Volatile Acidity| A wine's acetic acid; (High Volatility = High Vinegar-like smell). (g/L)|\n",
    "|Citric Acid| The amount of citric acid; (Raises acidity, Lowers shelf-life). (g/L)|\n",
    "|Residual Sugar| Leftover sugars after fermentation. (g/L)|\n",
    "|Chlorides| Increases sodium levels; (Affects color, clarity, flavor, aroma). (g/L)|\n",
    "|Free Sulfur Dioxide| Related to pH. Determines how much SO2 is available. (Increases shelf-life, decreases palatability). (mg/L)|\n",
    "|Total Sulfur Dioxide| Summation of free and bound SO2. (Limited to 350ppm: 0-150, low-processed, 150+ highly processed). (mg/L)|\n",
    "|Density| Between 1.08 and 1.09. (Insight into fermentation process of yeast growth). (g/L)|\n",
    "|pH| 2.5: more acidic - 4.5: less acidic (range)|\n",
    "|Sulphates| Added to stop fermentation (Preservative) (g/L)|\n",
    "|Alcohol| Related to Residual Sugars. By-product of fermentation process (vol%)|\n",
    "|Quality| Score assigned between 0 and 10; 0=low, 10=best|\n",
    "|Wine type| Classifies color of wine ; Red or White|"
   ]
  },
  {
   "cell_type": "markdown",
   "id": "7b4d21e0-248c-459f-848c-ba82b6dc612b",
   "metadata": {},
   "source": [
    "### Bring in Data for Exploration"
   ]
  },
  {
   "cell_type": "code",
   "execution_count": 2,
   "id": "82b55ba1-fa0b-4898-8161-35c3b922e48e",
   "metadata": {},
   "outputs": [
    {
     "name": "stdout",
     "output_type": "stream",
     "text": [
      "train -> (3897, 14), 59.98%\n",
      "validate -> (1300, 14),20.01%\n",
      "test -> (1300, 14), 20.01%\n"
     ]
    }
   ],
   "source": [
    "# Bring in data .csv \n",
    "df = wrangle.get_wine()\n",
    "# Split data\n",
    "train, validate, test = wrangle.split_data(df)"
   ]
  },
  {
   "cell_type": "markdown",
   "id": "d20ea549-d03b-4671-aaf0-2fac30ea4d0e",
   "metadata": {},
   "source": [
    "### Sneak Peak at the Data\n"
   ]
  },
  {
   "cell_type": "code",
   "execution_count": 3,
   "id": "e52be9b6-cd07-43ed-a13b-48c4f8b9a659",
   "metadata": {},
   "outputs": [
    {
     "data": {
      "text/html": [
       "<div>\n",
       "<style scoped>\n",
       "    .dataframe tbody tr th:only-of-type {\n",
       "        vertical-align: middle;\n",
       "    }\n",
       "\n",
       "    .dataframe tbody tr th {\n",
       "        vertical-align: top;\n",
       "    }\n",
       "\n",
       "    .dataframe thead th {\n",
       "        text-align: right;\n",
       "    }\n",
       "</style>\n",
       "<table border=\"1\" class=\"dataframe\">\n",
       "  <thead>\n",
       "    <tr style=\"text-align: right;\">\n",
       "      <th></th>\n",
       "      <th>fixed_acidity</th>\n",
       "      <th>volatile_acidity</th>\n",
       "      <th>citric_acid</th>\n",
       "      <th>residual_sugar</th>\n",
       "      <th>chlorides</th>\n",
       "      <th>free_sulfur_dioxide</th>\n",
       "      <th>total_sulfur_dioxide</th>\n",
       "      <th>density</th>\n",
       "      <th>ph</th>\n",
       "      <th>sulphates</th>\n",
       "      <th>alcohol</th>\n",
       "      <th>quality</th>\n",
       "      <th>wine_type</th>\n",
       "      <th>white</th>\n",
       "    </tr>\n",
       "  </thead>\n",
       "  <tbody>\n",
       "    <tr>\n",
       "      <th>3353</th>\n",
       "      <td>6.4</td>\n",
       "      <td>0.16</td>\n",
       "      <td>0.28</td>\n",
       "      <td>2.2</td>\n",
       "      <td>0.042</td>\n",
       "      <td>0.033</td>\n",
       "      <td>0.093</td>\n",
       "      <td>0.99140</td>\n",
       "      <td>3.31</td>\n",
       "      <td>0.43</td>\n",
       "      <td>11.1</td>\n",
       "      <td>6</td>\n",
       "      <td>white</td>\n",
       "      <td>1</td>\n",
       "    </tr>\n",
       "    <tr>\n",
       "      <th>2032</th>\n",
       "      <td>7.2</td>\n",
       "      <td>0.55</td>\n",
       "      <td>0.09</td>\n",
       "      <td>1.5</td>\n",
       "      <td>0.108</td>\n",
       "      <td>0.016</td>\n",
       "      <td>0.151</td>\n",
       "      <td>0.99380</td>\n",
       "      <td>3.07</td>\n",
       "      <td>0.57</td>\n",
       "      <td>9.2</td>\n",
       "      <td>4</td>\n",
       "      <td>white</td>\n",
       "      <td>1</td>\n",
       "    </tr>\n",
       "    <tr>\n",
       "      <th>6223</th>\n",
       "      <td>6.4</td>\n",
       "      <td>0.40</td>\n",
       "      <td>0.25</td>\n",
       "      <td>4.2</td>\n",
       "      <td>0.032</td>\n",
       "      <td>0.015</td>\n",
       "      <td>0.091</td>\n",
       "      <td>0.98988</td>\n",
       "      <td>3.26</td>\n",
       "      <td>0.52</td>\n",
       "      <td>13.1</td>\n",
       "      <td>6</td>\n",
       "      <td>white</td>\n",
       "      <td>1</td>\n",
       "    </tr>\n",
       "  </tbody>\n",
       "</table>\n",
       "</div>"
      ],
      "text/plain": [
       "      fixed_acidity  volatile_acidity  citric_acid  residual_sugar  chlorides  \\\n",
       "3353            6.4              0.16         0.28             2.2      0.042   \n",
       "2032            7.2              0.55         0.09             1.5      0.108   \n",
       "6223            6.4              0.40         0.25             4.2      0.032   \n",
       "\n",
       "      free_sulfur_dioxide  total_sulfur_dioxide  density    ph  sulphates  \\\n",
       "3353                0.033                 0.093  0.99140  3.31       0.43   \n",
       "2032                0.016                 0.151  0.99380  3.07       0.57   \n",
       "6223                0.015                 0.091  0.98988  3.26       0.52   \n",
       "\n",
       "      alcohol  quality wine_type  white  \n",
       "3353     11.1        6     white      1  \n",
       "2032      9.2        4     white      1  \n",
       "6223     13.1        6     white      1  "
      ]
     },
     "execution_count": 3,
     "metadata": {},
     "output_type": "execute_result"
    }
   ],
   "source": [
    "train.head(3)"
   ]
  },
  {
   "cell_type": "markdown",
   "id": "fc2c096e-d449-4973-82a6-b9631eaff7a4",
   "metadata": {},
   "source": [
    "### Summary of Data"
   ]
  },
  {
   "cell_type": "code",
   "execution_count": 4,
   "id": "753af9a8-b82b-47e2-9076-326184f44731",
   "metadata": {},
   "outputs": [
    {
     "data": {
      "text/html": [
       "<div>\n",
       "<style scoped>\n",
       "    .dataframe tbody tr th:only-of-type {\n",
       "        vertical-align: middle;\n",
       "    }\n",
       "\n",
       "    .dataframe tbody tr th {\n",
       "        vertical-align: top;\n",
       "    }\n",
       "\n",
       "    .dataframe thead th {\n",
       "        text-align: right;\n",
       "    }\n",
       "</style>\n",
       "<table border=\"1\" class=\"dataframe\">\n",
       "  <thead>\n",
       "    <tr style=\"text-align: right;\">\n",
       "      <th></th>\n",
       "      <th>fixed_acidity</th>\n",
       "      <th>volatile_acidity</th>\n",
       "      <th>citric_acid</th>\n",
       "      <th>residual_sugar</th>\n",
       "      <th>chlorides</th>\n",
       "      <th>free_sulfur_dioxide</th>\n",
       "      <th>total_sulfur_dioxide</th>\n",
       "      <th>density</th>\n",
       "      <th>ph</th>\n",
       "      <th>sulphates</th>\n",
       "      <th>alcohol</th>\n",
       "      <th>quality</th>\n",
       "      <th>white</th>\n",
       "    </tr>\n",
       "  </thead>\n",
       "  <tbody>\n",
       "    <tr>\n",
       "      <th>count</th>\n",
       "      <td>3897.000000</td>\n",
       "      <td>3897.000000</td>\n",
       "      <td>3897.000000</td>\n",
       "      <td>3897.000000</td>\n",
       "      <td>3897.000000</td>\n",
       "      <td>3897.000000</td>\n",
       "      <td>3897.000000</td>\n",
       "      <td>3897.000000</td>\n",
       "      <td>3897.000000</td>\n",
       "      <td>3897.000000</td>\n",
       "      <td>3897.000000</td>\n",
       "      <td>3897.000000</td>\n",
       "      <td>3897.000000</td>\n",
       "    </tr>\n",
       "    <tr>\n",
       "      <th>mean</th>\n",
       "      <td>7.234770</td>\n",
       "      <td>0.338758</td>\n",
       "      <td>0.320719</td>\n",
       "      <td>5.533423</td>\n",
       "      <td>0.056252</td>\n",
       "      <td>0.030800</td>\n",
       "      <td>0.116135</td>\n",
       "      <td>0.994752</td>\n",
       "      <td>3.217865</td>\n",
       "      <td>0.530742</td>\n",
       "      <td>10.479193</td>\n",
       "      <td>5.812933</td>\n",
       "      <td>0.753400</td>\n",
       "    </tr>\n",
       "    <tr>\n",
       "      <th>std</th>\n",
       "      <td>1.302097</td>\n",
       "      <td>0.164181</td>\n",
       "      <td>0.146233</td>\n",
       "      <td>4.828980</td>\n",
       "      <td>0.035599</td>\n",
       "      <td>0.018071</td>\n",
       "      <td>0.056967</td>\n",
       "      <td>0.003022</td>\n",
       "      <td>0.161605</td>\n",
       "      <td>0.148456</td>\n",
       "      <td>1.192935</td>\n",
       "      <td>0.867007</td>\n",
       "      <td>0.431087</td>\n",
       "    </tr>\n",
       "    <tr>\n",
       "      <th>min</th>\n",
       "      <td>3.800000</td>\n",
       "      <td>0.080000</td>\n",
       "      <td>0.000000</td>\n",
       "      <td>0.600000</td>\n",
       "      <td>0.012000</td>\n",
       "      <td>0.001000</td>\n",
       "      <td>0.007000</td>\n",
       "      <td>0.987110</td>\n",
       "      <td>2.740000</td>\n",
       "      <td>0.220000</td>\n",
       "      <td>8.000000</td>\n",
       "      <td>3.000000</td>\n",
       "      <td>0.000000</td>\n",
       "    </tr>\n",
       "    <tr>\n",
       "      <th>25%</th>\n",
       "      <td>6.400000</td>\n",
       "      <td>0.230000</td>\n",
       "      <td>0.250000</td>\n",
       "      <td>1.800000</td>\n",
       "      <td>0.038000</td>\n",
       "      <td>0.017000</td>\n",
       "      <td>0.078000</td>\n",
       "      <td>0.992400</td>\n",
       "      <td>3.110000</td>\n",
       "      <td>0.430000</td>\n",
       "      <td>9.500000</td>\n",
       "      <td>5.000000</td>\n",
       "      <td>1.000000</td>\n",
       "    </tr>\n",
       "    <tr>\n",
       "      <th>50%</th>\n",
       "      <td>7.000000</td>\n",
       "      <td>0.290000</td>\n",
       "      <td>0.310000</td>\n",
       "      <td>3.200000</td>\n",
       "      <td>0.047000</td>\n",
       "      <td>0.029000</td>\n",
       "      <td>0.118000</td>\n",
       "      <td>0.994940</td>\n",
       "      <td>3.210000</td>\n",
       "      <td>0.510000</td>\n",
       "      <td>10.300000</td>\n",
       "      <td>6.000000</td>\n",
       "      <td>1.000000</td>\n",
       "    </tr>\n",
       "    <tr>\n",
       "      <th>75%</th>\n",
       "      <td>7.700000</td>\n",
       "      <td>0.400000</td>\n",
       "      <td>0.390000</td>\n",
       "      <td>8.200000</td>\n",
       "      <td>0.065000</td>\n",
       "      <td>0.042000</td>\n",
       "      <td>0.156000</td>\n",
       "      <td>0.997000</td>\n",
       "      <td>3.320000</td>\n",
       "      <td>0.600000</td>\n",
       "      <td>11.300000</td>\n",
       "      <td>6.000000</td>\n",
       "      <td>1.000000</td>\n",
       "    </tr>\n",
       "    <tr>\n",
       "      <th>max</th>\n",
       "      <td>15.900000</td>\n",
       "      <td>1.580000</td>\n",
       "      <td>1.660000</td>\n",
       "      <td>65.800000</td>\n",
       "      <td>0.610000</td>\n",
       "      <td>0.289000</td>\n",
       "      <td>0.440000</td>\n",
       "      <td>1.038980</td>\n",
       "      <td>4.010000</td>\n",
       "      <td>2.000000</td>\n",
       "      <td>14.900000</td>\n",
       "      <td>9.000000</td>\n",
       "      <td>1.000000</td>\n",
       "    </tr>\n",
       "  </tbody>\n",
       "</table>\n",
       "</div>"
      ],
      "text/plain": [
       "       fixed_acidity  volatile_acidity  citric_acid  residual_sugar  \\\n",
       "count    3897.000000       3897.000000  3897.000000     3897.000000   \n",
       "mean        7.234770          0.338758     0.320719        5.533423   \n",
       "std         1.302097          0.164181     0.146233        4.828980   \n",
       "min         3.800000          0.080000     0.000000        0.600000   \n",
       "25%         6.400000          0.230000     0.250000        1.800000   \n",
       "50%         7.000000          0.290000     0.310000        3.200000   \n",
       "75%         7.700000          0.400000     0.390000        8.200000   \n",
       "max        15.900000          1.580000     1.660000       65.800000   \n",
       "\n",
       "         chlorides  free_sulfur_dioxide  total_sulfur_dioxide      density  \\\n",
       "count  3897.000000          3897.000000           3897.000000  3897.000000   \n",
       "mean      0.056252             0.030800              0.116135     0.994752   \n",
       "std       0.035599             0.018071              0.056967     0.003022   \n",
       "min       0.012000             0.001000              0.007000     0.987110   \n",
       "25%       0.038000             0.017000              0.078000     0.992400   \n",
       "50%       0.047000             0.029000              0.118000     0.994940   \n",
       "75%       0.065000             0.042000              0.156000     0.997000   \n",
       "max       0.610000             0.289000              0.440000     1.038980   \n",
       "\n",
       "                ph    sulphates      alcohol      quality        white  \n",
       "count  3897.000000  3897.000000  3897.000000  3897.000000  3897.000000  \n",
       "mean      3.217865     0.530742    10.479193     5.812933     0.753400  \n",
       "std       0.161605     0.148456     1.192935     0.867007     0.431087  \n",
       "min       2.740000     0.220000     8.000000     3.000000     0.000000  \n",
       "25%       3.110000     0.430000     9.500000     5.000000     1.000000  \n",
       "50%       3.210000     0.510000    10.300000     6.000000     1.000000  \n",
       "75%       3.320000     0.600000    11.300000     6.000000     1.000000  \n",
       "max       4.010000     2.000000    14.900000     9.000000     1.000000  "
      ]
     },
     "execution_count": 4,
     "metadata": {},
     "output_type": "execute_result"
    }
   ],
   "source": [
    "train.describe()"
   ]
  },
  {
   "cell_type": "markdown",
   "id": "8d2f6eeb-6226-4091-a869-56950471443d",
   "metadata": {},
   "source": [
    "## Exploration"
   ]
  },
  {
   "cell_type": "markdown",
   "id": "ff2352d5-1b7d-403a-9fef-a4b7981220f7",
   "metadata": {},
   "source": [
    "* All features independently evaluated against wine quality\n",
    "* alpha =.05 for all statistics ran\n",
    "* For catagorical features T-tests were used\n"
   ]
  },
  {
   "cell_type": "code",
   "execution_count": 5,
   "id": "67a35e55-544f-4808-bf3a-70886470a9ce",
   "metadata": {},
   "outputs": [
    {
     "data": {
      "image/png": "[encoded data removed]",
      "text/plain": [
       "<Figure size 1200x300 with 1 Axes>"
      ]
     },
     "metadata": {},
     "output_type": "display_data"
    }
   ],
   "source": [
    "# viualization distribution of target 'quality'\n",
    "functions.get_distplot(train)"
   ]
  },
  {
   "cell_type": "markdown",
   "id": "f4410da8-55bc-4b3f-bad7-04b1188e60e3",
   "metadata": {},
   "source": [
    "### 1. Is alcohol predictive of quality?"
   ]
  },
  {
   "cell_type": "code",
   "execution_count": 6,
   "id": "d96f2084-f1df-49cd-940e-b39912484a55",
   "metadata": {},
   "outputs": [
    {
     "data": {
      "image/png": "[encoded data removed]",
      "text/plain": [
       "<Figure size 1200x600 with 1 Axes>"
      ]
     },
     "metadata": {},
     "output_type": "display_data"
    }
   ],
   "source": [
    "# Get visualizaions\n",
    "functions.get_alcohol_quality(train)"
   ]
  },
  {
   "cell_type": "markdown",
   "id": "adf54ddb-4e56-4261-ae34-edf219e68783",
   "metadata": {
    "tags": []
   },
   "source": [
    "#### Charting Observations: Alcohol\n",
    "* As alcohol content increases, the wine quality rating tends to increase as well.\n",
    "* Conversely, as alcohol content decreases, the wine quality rating tends to decrease."
   ]
  },
  {
   "cell_type": "markdown",
   "id": "0895d051-3818-49a2-b7ee-07a5034004da",
   "metadata": {},
   "source": [
    "####  Statistics: Alcohol\n"
   ]
  },
  {
   "cell_type": "markdown",
   "id": "beb16610-d2de-4c59-9abb-73b6a1deae37",
   "metadata": {},
   "source": [
    "##### Hypothisis: Alcohol\n",
    "$H_0$ : alcohol is independent of quality<br>\n",
    "$H_a$ : alcohol is not independent of quality"
   ]
  },
  {
   "cell_type": "code",
   "execution_count": 7,
   "id": "dd905e8c-e66d-4c3f-b6e0-54369635cc04",
   "metadata": {},
   "outputs": [
    {
     "data": {
      "text/html": [
       "<div>\n",
       "<style scoped>\n",
       "    .dataframe tbody tr th:only-of-type {\n",
       "        vertical-align: middle;\n",
       "    }\n",
       "\n",
       "    .dataframe tbody tr th {\n",
       "        vertical-align: top;\n",
       "    }\n",
       "\n",
       "    .dataframe thead th {\n",
       "        text-align: right;\n",
       "    }\n",
       "</style>\n",
       "<table border=\"1\" class=\"dataframe\">\n",
       "  <thead>\n",
       "    <tr style=\"text-align: right;\">\n",
       "      <th></th>\n",
       "      <th>T-Statistic</th>\n",
       "      <th>P-Value</th>\n",
       "      <th>Decision</th>\n",
       "    </tr>\n",
       "  </thead>\n",
       "  <tbody>\n",
       "    <tr>\n",
       "      <th>0</th>\n",
       "      <td>197.526362</td>\n",
       "      <td>0.0</td>\n",
       "      <td>Reject Null Hypothesis</td>\n",
       "    </tr>\n",
       "  </tbody>\n",
       "</table>\n",
       "</div>"
      ],
      "text/plain": [
       "   T-Statistic  P-Value                Decision\n",
       "0   197.526362      0.0  Reject Null Hypothesis"
      ]
     },
     "execution_count": 7,
     "metadata": {},
     "output_type": "execute_result"
    }
   ],
   "source": [
    "# Running stat test\n",
    "functions.run_alcohol_ttest(train)"
   ]
  },
  {
   "cell_type": "markdown",
   "id": "af9f6edf-f09c-4a95-8199-5d0649f54a35",
   "metadata": {},
   "source": [
    "#### Result\n",
    "* Based on the result of our test, we can infer that alcohol content impacts wine quality. As alcohol content increases or decreases, wine quality rating increases and decreases respectively. Therefore, we will use it in our model."
   ]
  },
  {
   "cell_type": "markdown",
   "id": "32f2fd68-bee8-443b-bd6a-3e086245332f",
   "metadata": {},
   "source": [
    "### 2. Is volatile acidity predictive of quality?"
   ]
  },
  {
   "cell_type": "code",
   "execution_count": 8,
   "id": "4499b706-c3fb-42bd-81a0-2574b1c0ffc6",
   "metadata": {},
   "outputs": [
    {
     "data": {
      "image/png": "[encoded data removed]",
      "text/plain": [
       "<Figure size 1200x600 with 1 Axes>"
      ]
     },
     "metadata": {},
     "output_type": "display_data"
    }
   ],
   "source": [
    "# Get visualizaions\n",
    "functions.get_va_quality(train)"
   ]
  },
  {
   "cell_type": "markdown",
   "id": "e34ea7b4-665e-4122-a668-291e48a928ca",
   "metadata": {
    "tags": []
   },
   "source": [
    "#### Charting Observations: Vaolatile Acidity\n",
    "* Higher fluctuation or spread of volatile acidity results in a lower wine quality grade.\n",
    "* Conversely, lower fluctuation or spread of volatile acidity results in a higher wine quality grade."
   ]
  },
  {
   "cell_type": "markdown",
   "id": "2c231a0e-b6e7-474f-8b3f-9eb4502681c6",
   "metadata": {},
   "source": [
    "####  Statistics: Vaolatile Acidity\n"
   ]
  },
  {
   "cell_type": "markdown",
   "id": "3902ecca-dff5-4196-b651-e4d206387d1a",
   "metadata": {},
   "source": [
    "##### Hypothisis: Volatile Acidity\n",
    "$H_0$ : Volatile acidity is independent of quality<br>\n",
    "$H_a$ : Volatile acidity is not independent of quality"
   ]
  },
  {
   "cell_type": "code",
   "execution_count": 9,
   "id": "62da59c0-c9a3-47a9-9dae-ef8535079c14",
   "metadata": {},
   "outputs": [
    {
     "data": {
      "text/html": [
       "<div>\n",
       "<style scoped>\n",
       "    .dataframe tbody tr th:only-of-type {\n",
       "        vertical-align: middle;\n",
       "    }\n",
       "\n",
       "    .dataframe tbody tr th {\n",
       "        vertical-align: top;\n",
       "    }\n",
       "\n",
       "    .dataframe thead th {\n",
       "        text-align: right;\n",
       "    }\n",
       "</style>\n",
       "<table border=\"1\" class=\"dataframe\">\n",
       "  <thead>\n",
       "    <tr style=\"text-align: right;\">\n",
       "      <th></th>\n",
       "      <th>T-Statistic</th>\n",
       "      <th>P-Value</th>\n",
       "      <th>Decision</th>\n",
       "    </tr>\n",
       "  </thead>\n",
       "  <tbody>\n",
       "    <tr>\n",
       "      <th>0</th>\n",
       "      <td>-387.267364</td>\n",
       "      <td>0.0</td>\n",
       "      <td>Reject Null Hypothesis</td>\n",
       "    </tr>\n",
       "  </tbody>\n",
       "</table>\n",
       "</div>"
      ],
      "text/plain": [
       "   T-Statistic  P-Value                Decision\n",
       "0  -387.267364      0.0  Reject Null Hypothesis"
      ]
     },
     "execution_count": 9,
     "metadata": {},
     "output_type": "execute_result"
    }
   ],
   "source": [
    "# Run stats\n",
    "functions.run_volatile_acidity_ttest(train)"
   ]
  },
  {
   "cell_type": "markdown",
   "id": "a8addbd1-4bd7-4e8d-a31f-ef85d85ff665",
   "metadata": {},
   "source": [
    "#### Result\n",
    "* Based on the results of our test, we can infer that volatile acidity impacts wine quality. The more that volatile acidity fluctuates the lower quality grade a wine receives and the less volatile acidity fluctuates the higher quality grade a wine receives. Therefore, we will use it in our model."
   ]
  },
  {
   "cell_type": "markdown",
   "id": "64726d7d-8fff-4083-8411-b0f6f7f5ce43",
   "metadata": {},
   "source": [
    "### 3. Are sulphates predictive of quality?"
   ]
  },
  {
   "cell_type": "code",
   "execution_count": 10,
   "id": "b3834665-74fb-41fc-aa4e-b02921d651d6",
   "metadata": {},
   "outputs": [
    {
     "data": {
      "image/png": "[encoded data removed]",
      "text/plain": [
       "<Figure size 1200x600 with 1 Axes>"
      ]
     },
     "metadata": {},
     "output_type": "display_data"
    }
   ],
   "source": [
    "# Get visualizaions\n",
    "functions.get_sulphate_quality(train)"
   ]
  },
  {
   "cell_type": "markdown",
   "id": "ea54d254-8b85-41b4-9335-fcdc076cb996",
   "metadata": {
    "tags": []
   },
   "source": [
    "#### Charting Observations: Sulphates\n",
    "* There is normalized relationship between sulphates and quality\n",
    "* this means that higher sulphate levels are found in average qaulity wines\n",
    "* it also means that lower sulphate levels result in either low or high quality wines"
   ]
  },
  {
   "cell_type": "markdown",
   "id": "2264bc69-1972-47e4-a79c-b94c23e2989c",
   "metadata": {},
   "source": [
    "####  Statistics: Sulphates\n"
   ]
  },
  {
   "cell_type": "markdown",
   "id": "7c443df3-48d6-4f25-89ca-0e5fc0ab7c84",
   "metadata": {},
   "source": [
    "##### Hypothisis: Sulphates\n",
    "$H_0$ : sulphates are independent of quality<br>\n",
    "$H_a$ : sulphates are not independent of quality"
   ]
  },
  {
   "cell_type": "code",
   "execution_count": 11,
   "id": "ba2853e5-cf95-4fe8-ba20-a7f4a5e689d6",
   "metadata": {},
   "outputs": [
    {
     "data": {
      "text/html": [
       "<div>\n",
       "<style scoped>\n",
       "    .dataframe tbody tr th:only-of-type {\n",
       "        vertical-align: middle;\n",
       "    }\n",
       "\n",
       "    .dataframe tbody tr th {\n",
       "        vertical-align: top;\n",
       "    }\n",
       "\n",
       "    .dataframe thead th {\n",
       "        text-align: right;\n",
       "    }\n",
       "</style>\n",
       "<table border=\"1\" class=\"dataframe\">\n",
       "  <thead>\n",
       "    <tr style=\"text-align: right;\">\n",
       "      <th></th>\n",
       "      <th>T-Statistic</th>\n",
       "      <th>P-Value</th>\n",
       "      <th>Decision</th>\n",
       "    </tr>\n",
       "  </thead>\n",
       "  <tbody>\n",
       "    <tr>\n",
       "      <th>0</th>\n",
       "      <td>-374.870894</td>\n",
       "      <td>0.0</td>\n",
       "      <td>Reject Null Hypothesis</td>\n",
       "    </tr>\n",
       "  </tbody>\n",
       "</table>\n",
       "</div>"
      ],
      "text/plain": [
       "   T-Statistic  P-Value                Decision\n",
       "0  -374.870894      0.0  Reject Null Hypothesis"
      ]
     },
     "execution_count": 11,
     "metadata": {},
     "output_type": "execute_result"
    }
   ],
   "source": [
    "# Running t-stat test\n",
    "functions.run_sulphates_ttest(train)"
   ]
  },
  {
   "cell_type": "markdown",
   "id": "9390f3f9-df5e-4f7c-a040-5ba798c69f74",
   "metadata": {},
   "source": [
    "#### Result\n",
    "* Based on the observation in the chart and the supporting evidence from the statistics testing we can conclude that Sulphates do have a relationship with quality. Therefore, we will include it in our model."
   ]
  },
  {
   "cell_type": "markdown",
   "id": "cfa04963-0b3f-4ba3-8e3f-84c0fc4717f9",
   "metadata": {
    "tags": []
   },
   "source": [
    "### 4. Is citric acid predictive of quality? "
   ]
  },
  {
   "cell_type": "code",
   "execution_count": 12,
   "id": "7e76c1fa-4395-469e-a6fe-f538f1902fad",
   "metadata": {},
   "outputs": [
    {
     "data": {
      "image/png": "[encoded data removed]",
      "text/plain": [
       "<Figure size 1200x600 with 1 Axes>"
      ]
     },
     "metadata": {},
     "output_type": "display_data"
    }
   ],
   "source": [
    "# Get visualizaions\n",
    "functions.get_ca_quality(train)"
   ]
  },
  {
   "cell_type": "markdown",
   "id": "38644e18-2e7d-4daf-941a-0d3e74185812",
   "metadata": {},
   "source": [
    "#### Chart Observations: Citric Acid\n",
    "* As citric acid increases, the wine quality rating tends to increase as well.\n",
    "* Conversely, as citric acid decreases, the wine quality rating tends to decrease."
   ]
  },
  {
   "cell_type": "markdown",
   "id": "4889745d-2bf8-41c7-94f7-978a4ef92e57",
   "metadata": {},
   "source": [
    "####  Statistics: Citric Acid\n"
   ]
  },
  {
   "cell_type": "markdown",
   "id": "f71a5a50-8a23-477d-a6f8-0d89d8dae8d1",
   "metadata": {},
   "source": [
    "##### Hypothisis: Citric Acid\n",
    "$H_0$ : citric acid is independent of quality<br>\n",
    "$H_a$ : sitric acid is not independent of quality"
   ]
  },
  {
   "cell_type": "code",
   "execution_count": 13,
   "id": "03d8345d-41d7-4659-b7ce-d0de16c57126",
   "metadata": {},
   "outputs": [
    {
     "data": {
      "text/html": [
       "<div>\n",
       "<style scoped>\n",
       "    .dataframe tbody tr th:only-of-type {\n",
       "        vertical-align: middle;\n",
       "    }\n",
       "\n",
       "    .dataframe tbody tr th {\n",
       "        vertical-align: top;\n",
       "    }\n",
       "\n",
       "    .dataframe thead th {\n",
       "        text-align: right;\n",
       "    }\n",
       "</style>\n",
       "<table border=\"1\" class=\"dataframe\">\n",
       "  <thead>\n",
       "    <tr style=\"text-align: right;\">\n",
       "      <th></th>\n",
       "      <th>T-Statistic</th>\n",
       "      <th>P-Value</th>\n",
       "      <th>Decision</th>\n",
       "    </tr>\n",
       "  </thead>\n",
       "  <tbody>\n",
       "    <tr>\n",
       "      <th>0</th>\n",
       "      <td>-389.941036</td>\n",
       "      <td>0.0</td>\n",
       "      <td>Reject Null Hypothesis</td>\n",
       "    </tr>\n",
       "  </tbody>\n",
       "</table>\n",
       "</div>"
      ],
      "text/plain": [
       "   T-Statistic  P-Value                Decision\n",
       "0  -389.941036      0.0  Reject Null Hypothesis"
      ]
     },
     "execution_count": 13,
     "metadata": {},
     "output_type": "execute_result"
    }
   ],
   "source": [
    "# Running stat test\n",
    "functions.run_citric_acid_ttest(train)"
   ]
  },
  {
   "cell_type": "markdown",
   "id": "b57943d2-3edd-46de-8a43-b85c9ffb0c0d",
   "metadata": {},
   "source": [
    "#### Result\n",
    "* Based on our test result, we can infer that citric acid impacts wine quality rating. As citric acid gradually increases, wine quality rating also increases. Therefore, we will use it in our model."
   ]
  },
  {
   "cell_type": "markdown",
   "id": "385e760f-33d9-4a07-9cb9-67abbc012393",
   "metadata": {},
   "source": [
    "## Clustering"
   ]
  },
  {
   "cell_type": "code",
   "execution_count": 14,
   "id": "a81be410-abc7-4109-a1d1-7a2e2be81da7",
   "metadata": {},
   "outputs": [],
   "source": [
    "### Before clustering we will scale our data"
   ]
  },
  {
   "cell_type": "code",
   "execution_count": 15,
   "id": "b1423eda-3190-4de5-b3e9-f33875f3aee4",
   "metadata": {},
   "outputs": [],
   "source": [
    "# Scaling \n",
    "X_train_scaled, y_train, X_validate_scaled, y_validate, X_test_scaled, y_test = functions.scale_data(train, validate, test, ['alcohol', 'volatile_acidity','sulphates','citric_acid','free_sulfur_dioxide','ph','fixed_acidity','residual_sugar','white','chlorides','density'])"
   ]
  },
  {
   "cell_type": "code",
   "execution_count": 16,
   "id": "b63aa3f0-dc7a-41f6-a944-cdb80713ed3b",
   "metadata": {},
   "outputs": [
    {
     "ename": "NameError",
     "evalue": "name 'KMeans' is not defined",
     "output_type": "error",
     "traceback": [
      "\u001b[0;31m---------------------------------------------------------------------------\u001b[0m",
      "\u001b[0;31mNameError\u001b[0m                                 Traceback (most recent call last)",
      "Input \u001b[0;32mIn [16]\u001b[0m, in \u001b[0;36m<cell line: 1>\u001b[0;34m()\u001b[0m\n\u001b[0;32m----> 1\u001b[0m new_train1 \u001b[38;5;241m=\u001b[39m \u001b[43mfunctions\u001b[49m\u001b[38;5;241;43m.\u001b[39;49m\u001b[43mfind_clusters\u001b[49m\u001b[43m(\u001b[49m\u001b[43mX_train_scaled\u001b[49m\u001b[43m,\u001b[49m\u001b[43m \u001b[49m\u001b[38;5;124;43m'\u001b[39;49m\u001b[38;5;124;43mfixed_acidity\u001b[39;49m\u001b[38;5;124;43m'\u001b[39;49m\u001b[43m,\u001b[49m\u001b[43m \u001b[49m\u001b[38;5;124;43m'\u001b[39;49m\u001b[38;5;124;43mresidual_sugar\u001b[39;49m\u001b[38;5;124;43m'\u001b[39;49m\u001b[43m,\u001b[49m\u001b[43m \u001b[49m\u001b[38;5;124;43m'\u001b[39;49m\u001b[38;5;124;43mdensity\u001b[39;49m\u001b[38;5;124;43m'\u001b[39;49m\u001b[43m)\u001b[49m\n",
      "File \u001b[0;32m~/codeup-data-science/wine-project/functions.py:225\u001b[0m, in \u001b[0;36mfind_clusters\u001b[0;34m(train, variable1, variable2, variable3)\u001b[0m\n\u001b[1;32m    223\u001b[0m X \u001b[38;5;241m=\u001b[39m train[[variable1, variable2, variable3]]\n\u001b[1;32m    224\u001b[0m \u001b[38;5;66;03m# initiate kmeans\u001b[39;00m\n\u001b[0;32m--> 225\u001b[0m kmeans \u001b[38;5;241m=\u001b[39m \u001b[43mKMeans\u001b[49m(\u001b[38;5;241m3\u001b[39m)\n\u001b[1;32m    226\u001b[0m kmeans\u001b[38;5;241m.\u001b[39mfit(X)\n\u001b[1;32m    227\u001b[0m kmeans\u001b[38;5;241m.\u001b[39mpredict(X)\n",
      "\u001b[0;31mNameError\u001b[0m: name 'KMeans' is not defined"
     ]
    }
   ],
   "source": [
    "new_train1 = functions.find_clusters(X_train_scaled, 'fixed_acidity', 'residual_sugar', 'density')"
   ]
  },
  {
   "cell_type": "code",
   "execution_count": null,
   "id": "9e6842fb-fcc1-4593-bb6c-238814692061",
   "metadata": {},
   "outputs": [],
   "source": [
    "new_train2 = functions.find_clusters(X_train_scaled, 'ph', 'density', 'chlorides')"
   ]
  },
  {
   "cell_type": "code",
   "execution_count": null,
   "id": "1278434e-c12b-46cf-8c0f-1d0cb62c1fac",
   "metadata": {},
   "outputs": [],
   "source": [
    "new_train = functions.find_clusters(X_train_scaled, 'residual_sugar', 'citric_acid', 'white')"
   ]
  },
  {
   "cell_type": "code",
   "execution_count": null,
   "id": "25209db9-2b75-4cd8-baf6-5f285c12f470",
   "metadata": {},
   "outputs": [],
   "source": []
  },
  {
   "cell_type": "code",
   "execution_count": null,
   "id": "6591febc-056a-4190-9b8b-1c7ad335fc7b",
   "metadata": {},
   "outputs": [],
   "source": []
  },
  {
   "cell_type": "markdown",
   "id": "593736ce-4878-4340-b518-c74002fff7df",
   "metadata": {},
   "source": [
    "## Exploration Summary\n",
    "* Alcohol content appears to be the to most corolated feature to quality,\n",
    "    * wine quality rating tend to increase as alcohol content increases\n",
    "* The spread of volatile acidity ranges tends to be greater in lower wine quality grades\n",
    "* There is a normalized relationship between sulphates and quality\n",
    "    * Higher sulphate levels are found in average qaulity wines\n",
    "    * Lower sulphate levels result in either low or high quality wines\n",
    "* Citric acid levels have a positive linear relationship with quality ratings\n",
    "* Clustering - there was one cluster found using 'white', ' residual_sugar', 'citric_acid'\n",
    "\n",
    "* A combination of these features should create a predictive model for wine quality"
   ]
  },
  {
   "cell_type": "markdown",
   "id": "5400eb4b-252e-42b1-b6a6-13ae4cdd699c",
   "metadata": {},
   "source": [
    "### Features we are moving to modeling with\n",
    "* alcohol: strongest relationship to quality, will have a large impact on our model\n",
    "* volatile_acidity: strong relationship to quality, will have a large impact on our model\n",
    "* sulphates: strong relationship to quality, will have a large impact on our model\n",
    "* citric_acid: strong relationship to quality, will have a large impact on our model\n",
    "* free_sulfur_dioxide: moderate relationship to quality, will have a moderate impact on our model\n",
    "* ph: moderate relationship to quality, will have a moderate impact on our model\n",
    "* white: moderate relationship to quality, will have a moderate impact on our model\n",
    "* fixed_acidity: weak relationship to quality, but will have a minor impact on our model\n",
    "* residual_sugar: weak relationship to quality, but will have a minor impact on our model\n",
    "* chlorides: weak relationship to quality, but will have a minor impact on our model\n",
    "* density: weak relationship to quality, but will have a minor impact on our model\n",
    "* quality: is our target variable"
   ]
  },
  {
   "cell_type": "markdown",
   "id": "b758e296-9a83-4fbb-bb25-a94e54ce332c",
   "metadata": {},
   "source": [
    "### Features not moving to modeling \n",
    "* total_sulfur_dioxide: this proved to be highly corolated to free_sulfur_dioxide, so one needed to be droped. We chose total_sulfur_dioxide since the level of free_sulfur_dioxide has a greater influence on the wines quality.\n",
    "* wine_type: duplicated by white"
   ]
  },
  {
   "cell_type": "markdown",
   "id": "650596c4-3fd1-414d-b5ec-6ee98140f01d",
   "metadata": {},
   "source": [
    "### For the modeling with clusters we will make the following additional changes\n",
    "* we will create dummies for the cluster\n",
    "* we will drop the redundant features\n",
    "    * 'citric_acid'\n",
    "    * 'residual_sugar'\n",
    "    * 'white'"
   ]
  },
  {
   "cell_type": "code",
   "execution_count": null,
   "id": "078bd5ee-71d5-456d-960f-5e5a15337b72",
   "metadata": {},
   "outputs": [],
   "source": []
  },
  {
   "cell_type": "code",
   "execution_count": null,
   "id": "5e7b872e-ae80-4c9e-b22c-924134a04bd6",
   "metadata": {},
   "outputs": [],
   "source": []
  },
  {
   "cell_type": "code",
   "execution_count": null,
   "id": "a2b22732-89e3-496a-858a-cfd3c0a78b01",
   "metadata": {},
   "outputs": [],
   "source": []
  },
  {
   "cell_type": "markdown",
   "id": "1dd3b326-7610-43c9-9807-bb4ef42a36a5",
   "metadata": {},
   "source": [
    "## Modeling"
   ]
  },
  {
   "cell_type": "markdown",
   "id": "2db4285f-451a-4b5c-9482-e97f60e3c303",
   "metadata": {},
   "source": [
    "### Introduction\n",
    "* primary evaluation metric **Accuracy**\n"
   ]
  },
  {
   "cell_type": "markdown",
   "id": "28c6e133-7253-48d5-98fd-1fb2a530ae70",
   "metadata": {},
   "source": [
    "#### Baseline "
   ]
  },
  {
   "cell_type": "code",
   "execution_count": null,
   "id": "3d2fd75b-5d4c-4b17-be31-60471ffd1f01",
   "metadata": {},
   "outputs": [],
   "source": [
    "# get baseline \n",
    "functions.get_baseline(y_train)"
   ]
  },
  {
   "cell_type": "markdown",
   "id": "afd37995-21a0-4ff7-9f26-7e71ebb116d2",
   "metadata": {},
   "source": [
    "###  Models: without clusters"
   ]
  },
  {
   "cell_type": "code",
   "execution_count": null,
   "id": "f65123f7-fc59-4b3c-8fa7-ff67fabc8e38",
   "metadata": {},
   "outputs": [],
   "source": [
    "# running 4 models with preped data for modeling, retuning accuracy and recall \n",
    "functions.create_models(seed=123)\n",
    "results,X_train_scaled, X_test_scaled,y_test=functions.get_models(train, validate, test)\n",
    "results"
   ]
  },
  {
   "cell_type": "markdown",
   "id": "b61a3bef-668e-4f41-a397-2ce21a8f353a",
   "metadata": {},
   "source": [
    "### Model Selection\n",
    "* All Models gave gave very similar results\n",
    "    * All out performed the baseline accuracy of 0.439569\n",
    "    * K_nearest_neighbors gave the best results on the train and validate sets\n",
    "* The model using clustering performed worse than the model without the cluster\n",
    "* We will use the **K_nearest_neighbors** model **without cluters** for the unseen Test data"
   ]
  },
  {
   "cell_type": "markdown",
   "id": "75dfba30-68c8-4f7f-a8ce-2c2cda2d4841",
   "metadata": {},
   "source": [
    "### Test Model: best model\n"
   ]
  },
  {
   "cell_type": "code",
   "execution_count": null,
   "id": "ac217979-b3c3-4de4-a8e3-60623ed47401",
   "metadata": {},
   "outputs": [],
   "source": [
    "# running on test set\n",
    "functions.get_test_model()"
   ]
  },
  {
   "cell_type": "markdown",
   "id": "a8278fe0-2e9a-4dc3-96a8-5d012f8649d6",
   "metadata": {},
   "source": [
    "### Modeling Wrap \n",
    "* On the test set the model returned a \n",
    "    * beating the baseline \n",
    "    \n",
    "* This model ##could## be used in production"
   ]
  },
  {
   "cell_type": "markdown",
   "id": "2e9ef6dd-7a7e-40e8-90e3-52fbb6246213",
   "metadata": {},
   "source": [
    "## Conclusion\n",
    "\n",
    "### Summary\n",
    "* notes\n",
    "* notes\n",
    "* notes\n",
    "* notes\n",
    "### Recommendations\n",
    "* notes\n",
    "* notes\n",
    "\n",
    "### Next Steps\n",
    "* If provided more time to work on the project we would want to explore ###notes"
   ]
  },
  {
   "cell_type": "code",
   "execution_count": null,
   "id": "411ae7a4-00b8-4623-a1e1-ddc644197a30",
   "metadata": {},
   "outputs": [],
   "source": []
  }
 ],
 "metadata": {
  "kernelspec": {
   "display_name": "Python 3 (ipykernel)",
   "language": "python",
   "name": "python3"
  },
  "language_info": {
   "codemirror_mode": {
    "name": "ipython",
    "version": 3
   },
   "file_extension": ".py",
   "mimetype": "text/x-python",
   "name": "python",
   "nbconvert_exporter": "python",
   "pygments_lexer": "ipython3",
   "version": "3.9.13"
  },
  "toc-autonumbering": false
 },
 "nbformat": 4,
 "nbformat_minor": 5
}
